{
 "cells": [
  {
   "cell_type": "markdown",
   "metadata": {},
   "source": [
    "# Load library"
   ]
  },
  {
   "cell_type": "code",
   "execution_count": null,
   "metadata": {},
   "outputs": [],
   "source": [
    "%matplotlib inline\n",
    "import matplotlib.pyplot as plt\n",
    "from PIL import Image\n",
    "\n",
    "import tensorflow as tf\n",
    "from tensorflow import keras\n",
    "\n",
    "from tqdm import tqdm_notebook as tqdm\n",
    "\n",
    "import numpy as np"
   ]
  },
  {
   "cell_type": "markdown",
   "metadata": {},
   "source": [
    "# Open TensorFlow session"
   ]
  },
  {
   "cell_type": "code",
   "execution_count": null,
   "metadata": {},
   "outputs": [],
   "source": [
    "config = tf.ConfigProto()\n",
    "# Allocate only necessary amount of GPU memory \n",
    "config.gpu_options.allow_growth = True\n",
    "sess = tf.InteractiveSession(config=config)"
   ]
  },
  {
   "cell_type": "markdown",
   "metadata": {},
   "source": [
    "# Load pretrained VGG19 model.\n",
    "(download VGG19 model if necessary)"
   ]
  },
  {
   "cell_type": "code",
   "execution_count": null,
   "metadata": {},
   "outputs": [],
   "source": [
    "print(\"Load model ...\")\n",
    "vgg19 = tf.keras.applications.VGG19()\n",
    "vgg19.summary()"
   ]
  },
  {
   "cell_type": "markdown",
   "metadata": {},
   "source": [
    "# Load image and plot"
   ]
  },
  {
   "cell_type": "code",
   "execution_count": null,
   "metadata": {},
   "outputs": [],
   "source": [
    "print(\"Load images ...\")\n",
    "#img_style = Image.open(\"./landscape.png\").convert(\"RGB\").resize((224,224))\n",
    "#img_style = Image.open(\"./gogh.jpg\").convert(\"RGB\").resize((224,224))\n",
    "#img_style = Image.open(\"./style1.png\").convert(\"RGB\").resize((224,224))\n",
    "img_style = Image.open(\"./style2.jpg\").convert(\"RGB\").resize((224,224))\n",
    "#img_style = Image.open(\"./frozen.jpg\").convert(\"RGB\").resize((224,224))\n",
    "#img_style = Image.open(\"./udnie.jpg\").convert(\"RGB\").resize((224,224))\n",
    "#img_style = Image.open(\"./the_scream.jpg\").convert(\"RGB\").resize((224,224))\n",
    "#img_style = Image.open(\"./rain_princess.jpg\").convert(\"RGB\").resize((224,224))\n",
    "#img_style = Image.open(\"./the_shipwreck_of_the_minotaur.jpg\").convert(\"RGB\").resize((224,224))\n",
    "\n",
    "#img_content = Image.open(\"./cat.jpg\").convert(\"RGB\").resize((224,224))\n",
    "#img_content = Image.open(\"./seoul.jpg\").convert(\"RGB\").resize((224,224))\n",
    "#img_content = Image.open(\"./chicago.jpg\").convert(\"RGB\").resize((224,224))    #4e-4\n",
    "#img_content = Image.open(\"./deadpool.jpg\").convert(\"RGB\").resize((224,224))\n",
    "img_content = Image.open(\"./willy_wonka_old.jpg\").convert(\"RGB\").resize((224,224))\n",
    "\n",
    "fig = plt.figure(figsize=(25,10))\n",
    "fig_style = fig.add_subplot(1, 2, 1)\n",
    "fig_content = fig.add_subplot(1, 2, 2)\n",
    "\n",
    "fig_style.imshow(img_style)\n",
    "fig_style.set_title(\"Style\")\n",
    "fig_content.imshow(img_content)\n",
    "fig_content.set_title(\"Content\")"
   ]
  },
  {
   "cell_type": "markdown",
   "metadata": {},
   "source": [
    "# Set hyperparameters\n",
    "<img src=\"style_transfer_model.png\">"
   ]
  },
  {
   "cell_type": "code",
   "execution_count": null,
   "metadata": {},
   "outputs": [],
   "source": [
    "content_layer = \"block4_conv2\"\n",
    "style_layer_list = [\n",
    "    \"block1_conv1\",\n",
    "    \"block2_conv1\",\n",
    "    \"block3_conv1\",\n",
    "    \"block4_conv1\",\n",
    "    \"block5_conv1\"\n",
    "]\n",
    "w_style = [\n",
    "    0.2,\n",
    "    0.2,\n",
    "    0.2,\n",
    "    0.2,\n",
    "    0.2\n",
    "]\n",
    "alpha = 3.0\n",
    "beta = 10.0\n",
    "gamma = 0.3"
   ]
  },
  {
   "cell_type": "markdown",
   "metadata": {},
   "source": [
    "# Content Loss\n",
    "<img src=\"content_loss.PNG\">"
   ]
  },
  {
   "cell_type": "code",
   "execution_count": null,
   "metadata": {},
   "outputs": [],
   "source": [
    "content_img_content = tf.constant(sess.run(vgg19.get_layer(content_layer).output, feed_dict={vgg19.input:np.expand_dims(img_content, 0)}))\n",
    "content_img_output = vgg19.get_layer(content_layer).output\n",
    "content_loss = 0.5 * tf.reduce_sum(tf.pow(content_img_output - content_img_content, 2))"
   ]
  },
  {
   "cell_type": "markdown",
   "metadata": {},
   "source": [
    "# Compute gram matrix\n",
    "## 1. Flatten filters\n",
    "<img src=\"flatten_filter.png\">\n",
    "\n",
    "## 2. Multiply the matrix to generate (\\# of filters) * (\\# of filters)\n",
    "\\begin{equation}\n",
    "G_l = (\\hat{F}_l)^T\\hat{F}_l\n",
    "\\end{equation}"
   ]
  },
  {
   "cell_type": "code",
   "execution_count": null,
   "metadata": {},
   "outputs": [],
   "source": [
    "def gram_matrix(feature_matrix):\n",
    "    n_filter = int(feature_matrix.get_shape()[-1])\n",
    "    \n",
    "    flatten_feature_matrix = tf.reshape(feature_matrix, [-1, n_filter])\n",
    "    \n",
    "    return tf.matmul(tf.transpose(flatten_feature_matrix), flatten_feature_matrix)"
   ]
  },
  {
   "cell_type": "markdown",
   "metadata": {},
   "source": [
    "# Style loss\n",
    "<img src=\"style_loss1.PNG\">\n",
    "<img src=\"style_loss2.PNG\">"
   ]
  },
  {
   "cell_type": "code",
   "execution_count": null,
   "metadata": {},
   "outputs": [],
   "source": [
    "total_style_loss = 0.0\n",
    "for style_layer_idx in range(len(style_layer_list)):\n",
    "    style_img_style = tf.constant(sess.run(vgg19.get_layer(style_layer_list[style_layer_idx]).output, feed_dict={vgg19.input:np.expand_dims(img_style, 0)}))\n",
    "    gram_style_img_style = gram_matrix(style_img_style)\n",
    "    style_img_output = vgg19.get_layer(style_layer_list[style_layer_idx]).output\n",
    "    gram_style_img_output = gram_matrix(style_img_output)\n",
    "    \n",
    "    n_filter = tf.constant(int(style_img_style.get_shape()[-1]), dtype=tf.float32)\n",
    "    filter_size = tf.constant(int(style_img_style.get_shape()[-2]) * int(style_img_style.get_shape()[-3]), dtype=tf.float32)\n",
    "    style_loss = tf.reduce_sum(tf.pow(gram_style_img_output - gram_style_img_style, 2)) / (4.0 * tf.pow(n_filter * filter_size, 2))\n",
    "    total_style_loss += w_style[style_layer_idx] * style_loss"
   ]
  },
  {
   "cell_type": "markdown",
   "metadata": {},
   "source": [
    "# Denoise Loss"
   ]
  },
  {
   "cell_type": "code",
   "execution_count": null,
   "metadata": {},
   "outputs": [],
   "source": [
    "denoise_loss =  tf.reduce_sum(tf.abs(vgg19.input[:,1:,:,:] - vgg19.input[:,:-1,:,:])) \\\n",
    "                + tf.reduce_sum(tf.abs(vgg19.input[:,:,1:,:] - vgg19.input[:,:,:-1,:]))"
   ]
  },
  {
   "cell_type": "markdown",
   "metadata": {},
   "source": [
    "# Part 1. Effect of Content Loss"
   ]
  },
  {
   "cell_type": "code",
   "execution_count": null,
   "metadata": {
    "scrolled": false
   },
   "outputs": [],
   "source": [
    "loss = alpha * content_loss \n",
    "\n",
    "opt = keras.optimizers.Adam()\n",
    "grad_output = opt.get_gradients(loss, vgg19.input)\n",
    "\n",
    "learning_rate = 3e-5\n",
    "n_epoch = 60\n",
    "\n",
    "img_output = np.random.rand(224,224,3) + 128\n",
    "\n",
    "fig = plt.figure(figsize=(25,10))\n",
    "fig_style = fig.add_subplot(1, 3, 1)\n",
    "fig_output = fig.add_subplot(1, 3, 2)\n",
    "fig_content = fig.add_subplot(1, 3, 3)\n",
    "\n",
    "fig_style.imshow(img_style)\n",
    "fig_style.set_title(\"Style\")\n",
    "fig_output.imshow(np.int32(img_output))\n",
    "fig_output.set_title(\"Initial Output\")\n",
    "fig_content.imshow(img_content)\n",
    "fig_content.set_title(\"Content\")\n",
    "\n",
    "for ep in tqdm(range(n_epoch)):\n",
    "    grad, l_content = sess.run([grad_output, content_loss], feed_dict={vgg19.input:np.expand_dims(img_output, 0)})\n",
    "    img_output -= learning_rate*grad[0][0]\n",
    "    img_output = np.clip(img_output, 0.0, 255.0)\n",
    "    if ((ep + 1) % 10 == 0):\n",
    "        fig = plt.figure(figsize=(25,10))\n",
    "        fig_style = fig.add_subplot(1, 3, 1)\n",
    "        fig_output = fig.add_subplot(1, 3, 2)\n",
    "        fig_content = fig.add_subplot(1, 3, 3)\n",
    "        \n",
    "        fig_style.imshow(img_style)\n",
    "        fig_style.set_title(\"Style\")\n",
    "        fig_output.imshow(np.int32(img_output))\n",
    "        fig_output.set_title(\"Output after %d iter\" % (ep+1))\n",
    "        fig_content.imshow(img_content)\n",
    "        fig_content.set_title(\"Content\")\n",
    "        \n",
    "        print(\"Content loss: %f\" % (l_content))"
   ]
  },
  {
   "cell_type": "markdown",
   "metadata": {},
   "source": [
    "# Part 2. Effect of Style Loss"
   ]
  },
  {
   "cell_type": "code",
   "execution_count": null,
   "metadata": {
    "scrolled": false
   },
   "outputs": [],
   "source": [
    "loss = beta * total_style_loss\n",
    "\n",
    "opt = keras.optimizers.Adam()\n",
    "grad_output = opt.get_gradients(loss, vgg19.input)\n",
    "\n",
    "learning_rate = 3e-5\n",
    "n_epoch = 60\n",
    "\n",
    "img_output = np.random.rand(224,224,3) + 128\n",
    "\n",
    "fig = plt.figure(figsize=(25,10))\n",
    "fig_style = fig.add_subplot(1, 3, 1)\n",
    "fig_output = fig.add_subplot(1, 3, 2)\n",
    "fig_content = fig.add_subplot(1, 3, 3)\n",
    "\n",
    "fig_style.imshow(img_style)\n",
    "fig_style.set_title(\"Style\")\n",
    "fig_output.imshow(np.int32(img_output))\n",
    "fig_output.set_title(\"Initial Output\")\n",
    "fig_content.imshow(img_content)\n",
    "fig_content.set_title(\"Content\")\n",
    "\n",
    "for ep in tqdm(range(n_epoch)):\n",
    "    grad, l_style = sess.run([grad_output, style_loss], feed_dict={vgg19.input:np.expand_dims(img_output, 0)})\n",
    "    img_output -= learning_rate*grad[0][0]\n",
    "    img_output = np.clip(img_output, 0.0, 255.0)\n",
    "    if ((ep + 1) % 10 == 0):\n",
    "        fig = plt.figure(figsize=(25,10))\n",
    "        fig_style = fig.add_subplot(1, 3, 1)\n",
    "        fig_output = fig.add_subplot(1, 3, 2)\n",
    "        fig_content = fig.add_subplot(1, 3, 3)\n",
    "        \n",
    "        fig_style.imshow(img_style)\n",
    "        fig_style.set_title(\"Style\")\n",
    "        fig_output.imshow(np.int32(img_output))\n",
    "        fig_output.set_title(\"Output after %d iter\" % (ep+1))\n",
    "        fig_content.imshow(img_content)\n",
    "        fig_content.set_title(\"Content\")\n",
    "        \n",
    "        print(\"Style loss: %f\" % (l_style))\n"
   ]
  },
  {
   "cell_type": "markdown",
   "metadata": {},
   "source": [
    "# Part 3. Basic Style Transfer"
   ]
  },
  {
   "cell_type": "code",
   "execution_count": null,
   "metadata": {
    "scrolled": false
   },
   "outputs": [],
   "source": [
    "loss = alpha * content_loss + beta * total_style_loss + gamma * denoise_loss\n",
    "\n",
    "opt = keras.optimizers.Adam()\n",
    "grad_output = opt.get_gradients(loss, vgg19.input)\n",
    "\n",
    "learning_rate = 3e-5\n",
    "n_epoch = 60\n",
    "\n",
    "img_output = np.random.rand(224,224,3) + 128\n",
    "\n",
    "fig = plt.figure(figsize=(25,10))\n",
    "fig_style = fig.add_subplot(1, 3, 1)\n",
    "fig_output = fig.add_subplot(1, 3, 2)\n",
    "fig_content = fig.add_subplot(1, 3, 3)\n",
    "\n",
    "fig_style.imshow(img_style)\n",
    "fig_style.set_title(\"Style\")\n",
    "fig_output.imshow(np.int32(img_output))\n",
    "fig_output.set_title(\"Initial Output\")\n",
    "fig_content.imshow(img_content)\n",
    "fig_content.set_title(\"Content\")\n",
    "\n",
    "for ep in tqdm(range(n_epoch)):\n",
    "    grad, l_content, l_style, l_denoise = sess.run([grad_output, content_loss, style_loss, denoise_loss], feed_dict={vgg19.input:np.expand_dims(img_output, 0)})\n",
    "    img_output -= learning_rate*grad[0][0]\n",
    "    img_output = np.clip(img_output, 0.0, 255.0)\n",
    "    if ((ep + 1) % 10 == 0):\n",
    "        fig = plt.figure(figsize=(25,10))\n",
    "        fig_style = fig.add_subplot(1, 3, 1)\n",
    "        fig_output = fig.add_subplot(1, 3, 2)\n",
    "        fig_content = fig.add_subplot(1, 3, 3)\n",
    "        \n",
    "        fig_style.imshow(img_style)\n",
    "        fig_style.set_title(\"Style\")\n",
    "        fig_output.imshow(np.int32(img_output))\n",
    "        fig_output.set_title(\"Output after %d iter\" % (ep+1))\n",
    "        fig_content.imshow(img_content)\n",
    "        fig_content.set_title(\"Content\")\n",
    "        \n",
    "        print(\"Content loss: %f \\tStyle loss: %f\\tDenoise loss: %f\" % (l_content, l_style, l_denoise))\n"
   ]
  }
 ],
 "metadata": {
  "kernelspec": {
   "display_name": "Python 3",
   "language": "python",
   "name": "python3"
  },
  "language_info": {
   "codemirror_mode": {
    "name": "ipython",
    "version": 3
   },
   "file_extension": ".py",
   "mimetype": "text/x-python",
   "name": "python",
   "nbconvert_exporter": "python",
   "pygments_lexer": "ipython3",
   "version": "3.5.2"
  }
 },
 "nbformat": 4,
 "nbformat_minor": 2
}
