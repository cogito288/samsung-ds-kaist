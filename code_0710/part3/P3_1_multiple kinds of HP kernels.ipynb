{
 "cells": [
  {
   "cell_type": "markdown",
   "metadata": {},
   "source": [
    "# Tick <br>\n",
    "<https://x-datainitiative.github.io/tick/modules/hawkes.html> <br>\n",
    "Tick is a machine learning library focusing on statistical learning for time dependent systems, such as point processe."
   ]
  },
  {
   "cell_type": "code",
   "execution_count": null,
   "metadata": {},
   "outputs": [],
   "source": [
    "import numpy as np\n",
    "import matplotlib.pyplot as plt\n",
    "\n",
    "from tick.hawkes import HawkesKernel0, HawkesKernelExp, HawkesKernelPowerLaw, \\\n",
    "    HawkesKernelTimeFunc"
   ]
  },
  {
   "cell_type": "markdown",
   "metadata": {},
   "source": [
    "Kernels for Hawkes process simulation <br />\n",
    "A Hawkes process is defined through its kernels which are functions defined on [0,∞). The following kernels are available for simulation.\n",
    "- HawkesKernel0\n",
    "- HawkesKernelExp\n",
    "- HawkesKernelPowerLaw\n",
    "- HawkesKernelTimeFunc"
   ]
  },
  {
   "cell_type": "code",
   "execution_count": null,
   "metadata": {},
   "outputs": [],
   "source": [
    "kernel_0 = HawkesKernel0()\n",
    "kernel_exp = HawkesKernelExp(.7, 1.3)                  # HawkesKernelExp(intensity, decay)\n",
    "kernel_pl = HawkesKernelPowerLaw(.1, .2, 0.7)          # HawkesKernelPowerLaw(multiplier, cutoff, …)\n",
    "\n",
    "t_values = np.array([0, 1, 1.5, 1.8, 2.7])\n",
    "y_values = np.array([0, .6, .34, .2, .1])\n",
    "kernel_tf = HawkesKernelTimeFunc(t_values=t_values, y_values=y_values)     # HawkesKernelTimeFunc([time_function, …])\n",
    "\n",
    "kernels = [[kernel_0, kernel_exp], [kernel_pl, kernel_tf]]"
   ]
  },
  {
   "cell_type": "markdown",
   "metadata": {},
   "source": [
    "## Simulation"
   ]
  },
  {
   "cell_type": "code",
   "execution_count": null,
   "metadata": {},
   "outputs": [],
   "source": [
    "t_values = np.linspace(0, 3, 100)\n",
    "fig, ax = plt.subplots(1, 4, sharex=True, sharey=True, figsize=(20, 3))\n",
    "\n",
    "kernels = [kernel_0, kernel_exp, kernel_pl, kernel_tf]\n",
    "titles = ['Zero Kernel', 'Exponential', 'Power-law', 'Arbitrary time function']\n",
    "for j in range(4):\n",
    "    ax[j].plot(t_values, kernels[j].get_values(t_values),   # Simulation using get_values([times])\n",
    "                  label=kernels[j])\n",
    "    ax[j].legend(fontsize=15)\n",
    "    ax[j].set_title(titles[j], fontsize=20)\n",
    "plt.tight_layout()\n",
    "plt.show()"
   ]
  },
  {
   "cell_type": "code",
   "execution_count": null,
   "metadata": {},
   "outputs": [],
   "source": []
  }
 ],
 "metadata": {
  "kernelspec": {
   "display_name": "Python 3",
   "language": "python",
   "name": "python3"
  },
  "language_info": {
   "codemirror_mode": {
    "name": "ipython",
    "version": 3
   },
   "file_extension": ".py",
   "mimetype": "text/x-python",
   "name": "python",
   "nbconvert_exporter": "python",
   "pygments_lexer": "ipython3",
   "version": "3.6.8"
  }
 },
 "nbformat": 4,
 "nbformat_minor": 2
}
